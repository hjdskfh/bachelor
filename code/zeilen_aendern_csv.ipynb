{
 "cells": [
  {
   "cell_type": "code",
   "execution_count": null,
   "metadata": {},
   "outputs": [],
   "source": [
    "import pandas as pd\n",
    "\n",
    "# Load the CSV file\n",
    "df = pd.read_csv(\"current_wavelength_data.csv\")\n",
    "\n",
    "# Choose the row you want to divide by 1000 (e.g., row index 2)\n",
    "df[\"Current (mA)\"] = df[\"Current (mA)\"] / 1000\n",
    "\n",
    "# Save back to the CSV\n",
    "df.to_csv(\"current_wavelength_modified.csv\", index=False)"
   ]
  }
 ],
 "metadata": {
  "language_info": {
   "name": "python"
  }
 },
 "nbformat": 4,
 "nbformat_minor": 2
}

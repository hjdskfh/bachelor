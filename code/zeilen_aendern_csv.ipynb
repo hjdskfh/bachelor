{
 "cells": [
  {
   "cell_type": "code",
   "execution_count": null,
   "metadata": {},
   "outputs": [],
   "source": [
    "import pandas as pd\n",
    "\n",
    "# Load the CSV file\n",
    "df = pd.read_csv(\"current_wavelength_data.csv\")\n",
    "\n",
    "# Choose the row you want to divide by 1000 (e.g., row index 2)\n",
    "df[\"Current (mA)\"] = df[\"Current (mA)\"] / 1000\n",
    "\n",
    "# Save back to the CSV\n",
    "df.to_csv(\"current_wavelength_modified.csv\", index=False)"
   ]
  },
  {
   "cell_type": "code",
   "execution_count": 10,
   "metadata": {},
   "outputs": [
    {
     "name": "stdout",
     "output_type": "stream",
     "text": [
      "c:\\Users\\leavi\\OneDrive\\Dokumente\\Uni\\Semester 7\\NeuMoQP\\Programm\\code\n"
     ]
    }
   ],
   "source": [
    "import pandas as pd\n",
    "import os\n",
    "print(os.getcwd())\n",
    "\n",
    "# Load the CSV file\n",
    "df = pd.read_csv(\"../data/eam_transmission_data.csv\")\n",
    "\n",
    "# Choose the row you want to divide by 1000 (e.g., row index 2)\n",
    "df[\"Voltage (V)\"] = -df[\"Voltage (V)\"]\n",
    "\n",
    "# Save back to the CSV\n",
    "df.to_csv(\"../data/eam_transmission_data_modified.csv\", index=False)"
   ]
  },
  {
   "cell_type": "code",
   "execution_count": null,
   "metadata": {},
   "outputs": [],
   "source": []
  }
 ],
 "metadata": {
  "kernelspec": {
   "display_name": "Python 3",
   "language": "python",
   "name": "python3"
  },
  "language_info": {
   "codemirror_mode": {
    "name": "ipython",
    "version": 3
   },
   "file_extension": ".py",
   "mimetype": "text/x-python",
   "name": "python",
   "nbconvert_exporter": "python",
   "pygments_lexer": "ipython3",
   "version": "3.11.9"
  }
 },
 "nbformat": 4,
 "nbformat_minor": 2
}
